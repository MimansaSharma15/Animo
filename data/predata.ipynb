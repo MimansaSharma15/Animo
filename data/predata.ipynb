{
 "cells": [
  {
   "cell_type": "code",
   "execution_count": 1,
   "metadata": {},
   "outputs": [],
   "source": [
    "import pandas as pd\n",
    "import numpy as np"
   ]
  },
  {
   "cell_type": "code",
   "execution_count": 3,
   "metadata": {},
   "outputs": [],
   "source": [
    "df = pd.read_csv(\"/home/aradhya/Desktop/NLP/hack_iiit new/data/Mental_Health_FAQ.csv\")"
   ]
  },
  {
   "cell_type": "code",
   "execution_count": 4,
   "metadata": {},
   "outputs": [
    {
     "data": {
      "text/html": [
       "<div>\n",
       "<style scoped>\n",
       "    .dataframe tbody tr th:only-of-type {\n",
       "        vertical-align: middle;\n",
       "    }\n",
       "\n",
       "    .dataframe tbody tr th {\n",
       "        vertical-align: top;\n",
       "    }\n",
       "\n",
       "    .dataframe thead th {\n",
       "        text-align: right;\n",
       "    }\n",
       "</style>\n",
       "<table border=\"1\" class=\"dataframe\">\n",
       "  <thead>\n",
       "    <tr style=\"text-align: right;\">\n",
       "      <th></th>\n",
       "      <th>Question_ID</th>\n",
       "      <th>Questions</th>\n",
       "      <th>Answers</th>\n",
       "    </tr>\n",
       "  </thead>\n",
       "  <tbody>\n",
       "    <tr>\n",
       "      <th>0</th>\n",
       "      <td>1590140</td>\n",
       "      <td>What does it mean to have a mental illness?</td>\n",
       "      <td>Mental illnesses are health conditions that di...</td>\n",
       "    </tr>\n",
       "    <tr>\n",
       "      <th>1</th>\n",
       "      <td>2110618</td>\n",
       "      <td>Who does mental illness affect?</td>\n",
       "      <td>It is estimated that mental illness affects 1 ...</td>\n",
       "    </tr>\n",
       "    <tr>\n",
       "      <th>2</th>\n",
       "      <td>6361820</td>\n",
       "      <td>What causes mental illness?</td>\n",
       "      <td>It is estimated that mental illness affects 1 ...</td>\n",
       "    </tr>\n",
       "    <tr>\n",
       "      <th>3</th>\n",
       "      <td>9434130</td>\n",
       "      <td>What are some of the warning signs of mental i...</td>\n",
       "      <td>Symptoms of mental health disorders vary depen...</td>\n",
       "    </tr>\n",
       "    <tr>\n",
       "      <th>4</th>\n",
       "      <td>7657263</td>\n",
       "      <td>Can people with mental illness recover?</td>\n",
       "      <td>When healing from mental illness, early identi...</td>\n",
       "    </tr>\n",
       "  </tbody>\n",
       "</table>\n",
       "</div>"
      ],
      "text/plain": [
       "   Question_ID                                          Questions  \\\n",
       "0      1590140        What does it mean to have a mental illness?   \n",
       "1      2110618                    Who does mental illness affect?   \n",
       "2      6361820                        What causes mental illness?   \n",
       "3      9434130  What are some of the warning signs of mental i...   \n",
       "4      7657263            Can people with mental illness recover?   \n",
       "\n",
       "                                             Answers  \n",
       "0  Mental illnesses are health conditions that di...  \n",
       "1  It is estimated that mental illness affects 1 ...  \n",
       "2  It is estimated that mental illness affects 1 ...  \n",
       "3  Symptoms of mental health disorders vary depen...  \n",
       "4  When healing from mental illness, early identi...  "
      ]
     },
     "execution_count": 4,
     "metadata": {},
     "output_type": "execute_result"
    }
   ],
   "source": [
    "df.head()"
   ]
  },
  {
   "cell_type": "code",
   "execution_count": 5,
   "metadata": {},
   "outputs": [
    {
     "data": {
      "text/plain": [
       "(98, 3)"
      ]
     },
     "execution_count": 5,
     "metadata": {},
     "output_type": "execute_result"
    }
   ],
   "source": [
    "df.shape"
   ]
  },
  {
   "cell_type": "code",
   "execution_count": 7,
   "metadata": {},
   "outputs": [
    {
     "data": {
      "text/html": [
       "<div>\n",
       "<style scoped>\n",
       "    .dataframe tbody tr th:only-of-type {\n",
       "        vertical-align: middle;\n",
       "    }\n",
       "\n",
       "    .dataframe tbody tr th {\n",
       "        vertical-align: top;\n",
       "    }\n",
       "\n",
       "    .dataframe thead th {\n",
       "        text-align: right;\n",
       "    }\n",
       "</style>\n",
       "<table border=\"1\" class=\"dataframe\">\n",
       "  <thead>\n",
       "    <tr style=\"text-align: right;\">\n",
       "      <th></th>\n",
       "      <th>Question_ID</th>\n",
       "      <th>Questions</th>\n",
       "      <th>Answers</th>\n",
       "    </tr>\n",
       "  </thead>\n",
       "  <tbody>\n",
       "    <tr>\n",
       "      <th>0</th>\n",
       "      <td>1590140</td>\n",
       "      <td>what does it mean to have a mental illness?</td>\n",
       "      <td>mental illnesses are health conditions that di...</td>\n",
       "    </tr>\n",
       "    <tr>\n",
       "      <th>1</th>\n",
       "      <td>2110618</td>\n",
       "      <td>who does mental illness affect?</td>\n",
       "      <td>it is estimated that mental illness affects 1 ...</td>\n",
       "    </tr>\n",
       "    <tr>\n",
       "      <th>2</th>\n",
       "      <td>6361820</td>\n",
       "      <td>what causes mental illness?</td>\n",
       "      <td>it is estimated that mental illness affects 1 ...</td>\n",
       "    </tr>\n",
       "    <tr>\n",
       "      <th>3</th>\n",
       "      <td>9434130</td>\n",
       "      <td>what are some of the warning signs of mental i...</td>\n",
       "      <td>symptoms of mental health disorders vary depen...</td>\n",
       "    </tr>\n",
       "    <tr>\n",
       "      <th>4</th>\n",
       "      <td>7657263</td>\n",
       "      <td>can people with mental illness recover?</td>\n",
       "      <td>when healing from mental illness, early identi...</td>\n",
       "    </tr>\n",
       "  </tbody>\n",
       "</table>\n",
       "</div>"
      ],
      "text/plain": [
       "   Question_ID                                          Questions  \\\n",
       "0      1590140        what does it mean to have a mental illness?   \n",
       "1      2110618                    who does mental illness affect?   \n",
       "2      6361820                        what causes mental illness?   \n",
       "3      9434130  what are some of the warning signs of mental i...   \n",
       "4      7657263            can people with mental illness recover?   \n",
       "\n",
       "                                             Answers  \n",
       "0  mental illnesses are health conditions that di...  \n",
       "1  it is estimated that mental illness affects 1 ...  \n",
       "2  it is estimated that mental illness affects 1 ...  \n",
       "3  symptoms of mental health disorders vary depen...  \n",
       "4  when healing from mental illness, early identi...  "
      ]
     },
     "execution_count": 7,
     "metadata": {},
     "output_type": "execute_result"
    }
   ],
   "source": [
    "df['Questions'] = df['Questions'].str.lower()\n",
    "df['Answers'] = df['Answers'].str.lower()\n",
    "df.head()"
   ]
  },
  {
   "cell_type": "code",
   "execution_count": 11,
   "metadata": {},
   "outputs": [],
   "source": [
    "## Adding start and end tokens\n",
    "df['Questions'] = df['Questions'].apply(lambda x:'<START>'+str(x)+'<END>')\n",
    "df['Answers'] = df['Answers'].apply(lambda x:'<START>'+str(x)+'<END>')"
   ]
  },
  {
   "cell_type": "code",
   "execution_count": 12,
   "metadata": {},
   "outputs": [
    {
     "data": {
      "text/html": [
       "<div>\n",
       "<style scoped>\n",
       "    .dataframe tbody tr th:only-of-type {\n",
       "        vertical-align: middle;\n",
       "    }\n",
       "\n",
       "    .dataframe tbody tr th {\n",
       "        vertical-align: top;\n",
       "    }\n",
       "\n",
       "    .dataframe thead th {\n",
       "        text-align: right;\n",
       "    }\n",
       "</style>\n",
       "<table border=\"1\" class=\"dataframe\">\n",
       "  <thead>\n",
       "    <tr style=\"text-align: right;\">\n",
       "      <th></th>\n",
       "      <th>Question_ID</th>\n",
       "      <th>Questions</th>\n",
       "      <th>Answers</th>\n",
       "    </tr>\n",
       "  </thead>\n",
       "  <tbody>\n",
       "    <tr>\n",
       "      <th>0</th>\n",
       "      <td>1590140</td>\n",
       "      <td>&lt;START&gt;what does it mean to have a mental illn...</td>\n",
       "      <td>&lt;START&gt;mental illnesses are health conditions ...</td>\n",
       "    </tr>\n",
       "    <tr>\n",
       "      <th>1</th>\n",
       "      <td>2110618</td>\n",
       "      <td>&lt;START&gt;who does mental illness affect?&lt;END&gt;</td>\n",
       "      <td>&lt;START&gt;it is estimated that mental illness aff...</td>\n",
       "    </tr>\n",
       "    <tr>\n",
       "      <th>2</th>\n",
       "      <td>6361820</td>\n",
       "      <td>&lt;START&gt;what causes mental illness?&lt;END&gt;</td>\n",
       "      <td>&lt;START&gt;it is estimated that mental illness aff...</td>\n",
       "    </tr>\n",
       "    <tr>\n",
       "      <th>3</th>\n",
       "      <td>9434130</td>\n",
       "      <td>&lt;START&gt;what are some of the warning signs of m...</td>\n",
       "      <td>&lt;START&gt;symptoms of mental health disorders var...</td>\n",
       "    </tr>\n",
       "    <tr>\n",
       "      <th>4</th>\n",
       "      <td>7657263</td>\n",
       "      <td>&lt;START&gt;can people with mental illness recover?...</td>\n",
       "      <td>&lt;START&gt;when healing from mental illness, early...</td>\n",
       "    </tr>\n",
       "  </tbody>\n",
       "</table>\n",
       "</div>"
      ],
      "text/plain": [
       "   Question_ID                                          Questions  \\\n",
       "0      1590140  <START>what does it mean to have a mental illn...   \n",
       "1      2110618        <START>who does mental illness affect?<END>   \n",
       "2      6361820            <START>what causes mental illness?<END>   \n",
       "3      9434130  <START>what are some of the warning signs of m...   \n",
       "4      7657263  <START>can people with mental illness recover?...   \n",
       "\n",
       "                                             Answers  \n",
       "0  <START>mental illnesses are health conditions ...  \n",
       "1  <START>it is estimated that mental illness aff...  \n",
       "2  <START>it is estimated that mental illness aff...  \n",
       "3  <START>symptoms of mental health disorders var...  \n",
       "4  <START>when healing from mental illness, early...  "
      ]
     },
     "execution_count": 12,
     "metadata": {},
     "output_type": "execute_result"
    }
   ],
   "source": [
    "df.head()"
   ]
  },
  {
   "cell_type": "code",
   "execution_count": 13,
   "metadata": {},
   "outputs": [],
   "source": [
    "from tensorflow.keras.preprocessing.text import Tokenizer\n",
    "from tensorflow.keras.preprocessing.sequence import pad_sequences"
   ]
  },
  {
   "cell_type": "code",
   "execution_count": 16,
   "metadata": {},
   "outputs": [],
   "source": [
    "## Tokeninzing the text for the network\n",
    "questions = np.array(df['Questions'])\n",
    "answers = np.array(df['Answers'])\n",
    "\n",
    "tok_enc = Tokenizer(num_words=10000,\n",
    "                lower=True)\n",
    "tok_dec = Tokenizer(num_words=10000,\n",
    "                lower=True)\n",
    "\n",
    "tok_enc.fit_on_texts(questions)\n",
    "tok_dec.fit_on_texts(answers)\n",
    "\n",
    "seq_enc = tok_enc.texts_to_sequences(questions)\n",
    "seq_dec = tok_dec.texts_to_sequences(answers)"
   ]
  },
  {
   "cell_type": "code",
   "execution_count": 19,
   "metadata": {},
   "outputs": [],
   "source": [
    "df['questions_encoded'] = seq_enc\n",
    "df['answers_encoded'] = seq_dec"
   ]
  },
  {
   "cell_type": "code",
   "execution_count": 20,
   "metadata": {},
   "outputs": [
    {
     "data": {
      "text/html": [
       "<div>\n",
       "<style scoped>\n",
       "    .dataframe tbody tr th:only-of-type {\n",
       "        vertical-align: middle;\n",
       "    }\n",
       "\n",
       "    .dataframe tbody tr th {\n",
       "        vertical-align: top;\n",
       "    }\n",
       "\n",
       "    .dataframe thead th {\n",
       "        text-align: right;\n",
       "    }\n",
       "</style>\n",
       "<table border=\"1\" class=\"dataframe\">\n",
       "  <thead>\n",
       "    <tr style=\"text-align: right;\">\n",
       "      <th></th>\n",
       "      <th>Question_ID</th>\n",
       "      <th>Questions</th>\n",
       "      <th>Answers</th>\n",
       "      <th>questions_encoded</th>\n",
       "      <th>answers_encoded</th>\n",
       "    </tr>\n",
       "  </thead>\n",
       "  <tbody>\n",
       "    <tr>\n",
       "      <th>0</th>\n",
       "      <td>1590140</td>\n",
       "      <td>&lt;START&gt;what does it mean to have a mental illn...</td>\n",
       "      <td>&lt;START&gt;mental illnesses are health conditions ...</td>\n",
       "      <td>[1, 5, 43, 52, 53, 17, 44, 6, 8, 29, 2]</td>\n",
       "      <td>[29, 17, 174, 15, 14, 302, 16, 1597, 3, 1173, ...</td>\n",
       "    </tr>\n",
       "    <tr>\n",
       "      <th>1</th>\n",
       "      <td>2110618</td>\n",
       "      <td>&lt;START&gt;who does mental illness affect?&lt;END&gt;</td>\n",
       "      <td>&lt;START&gt;it is estimated that mental illness aff...</td>\n",
       "      <td>[1, 70, 43, 8, 29, 106, 2]</td>\n",
       "      <td>[29, 30, 12, 1183, 16, 17, 56, 390, 151, 8, 79...</td>\n",
       "    </tr>\n",
       "    <tr>\n",
       "      <th>2</th>\n",
       "      <td>6361820</td>\n",
       "      <td>&lt;START&gt;what causes mental illness?&lt;END&gt;</td>\n",
       "      <td>&lt;START&gt;it is estimated that mental illness aff...</td>\n",
       "      <td>[1, 5, 71, 8, 29, 2]</td>\n",
       "      <td>[29, 30, 12, 1183, 16, 17, 56, 390, 151, 8, 79...</td>\n",
       "    </tr>\n",
       "    <tr>\n",
       "      <th>3</th>\n",
       "      <td>9434130</td>\n",
       "      <td>&lt;START&gt;what are some of the warning signs of m...</td>\n",
       "      <td>&lt;START&gt;symptoms of mental health disorders var...</td>\n",
       "      <td>[1, 5, 30, 107, 26, 12, 108, 109, 26, 8, 29, 2]</td>\n",
       "      <td>[29, 47, 6, 17, 14, 162, 958, 959, 23, 4, 593,...</td>\n",
       "    </tr>\n",
       "    <tr>\n",
       "      <th>4</th>\n",
       "      <td>7657263</td>\n",
       "      <td>&lt;START&gt;can people with mental illness recover?...</td>\n",
       "      <td>&lt;START&gt;when healing from mental illness, early...</td>\n",
       "      <td>[1, 4, 110, 35, 8, 29, 111, 2]</td>\n",
       "      <td>[29, 44, 1212, 41, 17, 56, 532, 954, 2, 53, 15...</td>\n",
       "    </tr>\n",
       "  </tbody>\n",
       "</table>\n",
       "</div>"
      ],
      "text/plain": [
       "   Question_ID                                          Questions  \\\n",
       "0      1590140  <START>what does it mean to have a mental illn...   \n",
       "1      2110618        <START>who does mental illness affect?<END>   \n",
       "2      6361820            <START>what causes mental illness?<END>   \n",
       "3      9434130  <START>what are some of the warning signs of m...   \n",
       "4      7657263  <START>can people with mental illness recover?...   \n",
       "\n",
       "                                             Answers  \\\n",
       "0  <START>mental illnesses are health conditions ...   \n",
       "1  <START>it is estimated that mental illness aff...   \n",
       "2  <START>it is estimated that mental illness aff...   \n",
       "3  <START>symptoms of mental health disorders var...   \n",
       "4  <START>when healing from mental illness, early...   \n",
       "\n",
       "                                 questions_encoded  \\\n",
       "0          [1, 5, 43, 52, 53, 17, 44, 6, 8, 29, 2]   \n",
       "1                       [1, 70, 43, 8, 29, 106, 2]   \n",
       "2                             [1, 5, 71, 8, 29, 2]   \n",
       "3  [1, 5, 30, 107, 26, 12, 108, 109, 26, 8, 29, 2]   \n",
       "4                   [1, 4, 110, 35, 8, 29, 111, 2]   \n",
       "\n",
       "                                     answers_encoded  \n",
       "0  [29, 17, 174, 15, 14, 302, 16, 1597, 3, 1173, ...  \n",
       "1  [29, 30, 12, 1183, 16, 17, 56, 390, 151, 8, 79...  \n",
       "2  [29, 30, 12, 1183, 16, 17, 56, 390, 151, 8, 79...  \n",
       "3  [29, 47, 6, 17, 14, 162, 958, 959, 23, 4, 593,...  \n",
       "4  [29, 44, 1212, 41, 17, 56, 532, 954, 2, 53, 15...  "
      ]
     },
     "execution_count": 20,
     "metadata": {},
     "output_type": "execute_result"
    }
   ],
   "source": [
    "##  THIS IS WHAT OUR QUESTIONS AND ANSWERS LOOK LIKE AFTER TOKENIZATION \n",
    "df.head()"
   ]
  },
  {
   "cell_type": "code",
   "execution_count": 23,
   "metadata": {},
   "outputs": [
    {
     "data": {
      "text/plain": [
       "179"
      ]
     },
     "execution_count": 23,
     "metadata": {},
     "output_type": "execute_result"
    }
   ],
   "source": [
    "## STOPWORDS\n",
    "from nltk.corpus import stopwords\n",
    "len(stopwords.words(\"english\"))"
   ]
  },
  {
   "cell_type": "code",
   "execution_count": null,
   "metadata": {},
   "outputs": [],
   "source": [
    "df.to"
   ]
  }
 ],
 "metadata": {
  "kernelspec": {
   "display_name": "Python 3.8.5 64-bit ('pytorch')",
   "language": "python",
   "name": "python38564bitpytorch2a16fa1b15a1483ab70f1494474915f2"
  },
  "language_info": {
   "codemirror_mode": {
    "name": "ipython",
    "version": 3
   },
   "file_extension": ".py",
   "mimetype": "text/x-python",
   "name": "python",
   "nbconvert_exporter": "python",
   "pygments_lexer": "ipython3",
   "version": "3.8.5"
  }
 },
 "nbformat": 4,
 "nbformat_minor": 4
}
